{
 "cells": [
  {
   "cell_type": "markdown",
   "metadata": {},
   "source": [
    "# CSCI 3155 Project 1 - Compile Arithmetic Expressions into Stack Machine Bytecode"
   ]
  },
  {
   "cell_type": "markdown",
   "metadata": {},
   "source": [
    "## Instructions for Testing.\n",
    "\n",
    "### Running the main program\n",
    "The main function is defined in the file Main.scala. You can run Main from the command prompt with the current directory as the very top directory of the project, by running the following commands:\n",
    "\n",
    "```bash\n",
    "$ sbt compile\n",
    "$ sbt run\n",
    "```\n",
    "\n",
    "### Running ScalaTest tests\n",
    "\n",
    "Also, we will use a powerful unit testing package called scalatest. The tests themselves are in two files in the directory `src/test/scala/project1/`.\n",
    "\n",
    "To run this go to the terminal and from the very top directory run:\n",
    "\n",
    "```bash\n",
    "$ sbt test\n",
    "```\n",
    "\n",
    "It will say success if all tests run or give you a failure messages."
   ]
  },
  {
   "cell_type": "markdown",
   "metadata": {},
   "source": [
    "# Part 1: Stack Machine Bytecode\n",
    "\n",
    "Imagine a stack data structure that contains double precision numbers and the following instructions that operate on this stack. Pay special attention to the `SubI` and `DivI` instructions since the order matters.\n",
    "\n",
    "- `PushI(d)`: push the number d onto the stack.\n",
    "- `PopI`: pop off the top element of the stack - throw an exception if the stack is empty.\n",
    "- `AddI`: pop two numbers from the stack, add them and push the result back to the stack. Throw an exception if the stack is empty during any of the pop operations.\n",
    "- `SubI`: pop two numbers from the stack: let the first number popped be `v1` and second number be `v2`, subtract them as `v2 - v1` (this order is very important) and push the result back to the stack. Throw an exception if the stack is empty during any of the pop operations.\n",
    "- `MultI`: pop two numbers from the stack, multiply them and push the result back to the stack. Throw an exception if the stack is empty during any of the pop operations.\n",
    "- `DivI`: pop two numbers from the stack, let the first number popped be `v1` and second number be `v2`, subtract them as `v2 / v1` (this order is very important)  and push the result back to the stack. Throw an exception if the stack is emptyduring any of the pop operations. Throw exception if division by zero.\n",
    "- `LogI`: pop _one_ number from the stack, compute its log if positive and push the result back onto the stack. If non-positive throw an exception. Throw an exception if the stack is empty during any of the pop operations.\n",
    "- `ExpI`: pop _one_ number from the stack, compute its exponential $e^x$ and push the result back onto the stack.  Throw an exception if the stack is empty during any of the pop operations\n",
    "- `SineI/CosineI`: pop _one_ number from the stack, compute its sin/cos respectively, and push the result back onto the stack.  Throw an exception if the stack is empty during any of the pop operations.\n",
    "\n",
    "\n",
    "Given a sequence of instructions (eg., `[ PushI(2.0), PushI(3.0), AddI, PushI(4.0), SubI ]`, we execute each instruction in turn starting from the empty stack. We will implement the stack as a list with the head of the list as the top of the stack.\n",
    "\n",
    "- Initially the stack is empty. \n",
    "- When we execute  `PushI(2.0)`, the stack is `[ 2.0 ]`\n",
    "- When we execute  `PushI(3.0)`, the stack is `[ 3.0, 2.0 ]`\n",
    "- When we execute `AddI`, the stack becomes `[ 5.0 ]`\n",
    "- When we execute `PushI(4.0)`, the stack becomes `[ 4.0, 5.0 ] `\n",
    "- When we execute `SubI`, the stack becomes `[ 1.0 ]`\n",
    "\n",
    "The final value computed is obtained by taking the top element of the stack after all instructions have executed and that is the value `1.0` in this example.\n",
    "\n",
    "### Instructions for Part 1\n",
    "\n",
    "Implement the methods `emulateSingleInstruction` and `emulateStackMachine` in the file `StackMachineEmulator.scala`. For your convenience, the stack machine instructions have been defined as a very simple inductive definition giving case classes for all the instructions. We will use an immutable List data structure to simulate the stack.\n",
    "\n",
    "- `emulateSingleInstruction(stack, instruction)` takes in a stack  which is a list of Double, and instruction which is an instruction. It returns a stack of double resulting from executing that instructions.\n",
    "\n",
    "- `emulateStackMachine(listOfInstructions)` asks you to return the final value computed by the listOfInstructions. You should call `emulateSingleInstruction` repeatedly. Use `foldLeft` over lists instead of a loop."
   ]
  },
  {
   "cell_type": "markdown",
   "metadata": {},
   "source": [
    "# Part 2: Compiling Expressions to a List of ByteCode Instructions"
   ]
  },
  {
   "cell_type": "markdown",
   "metadata": {},
   "source": [
    "We will now describe the `compilation` of expressions into bytecode instructions.\n",
    "\n",
    "For instance the expression `1.0 + (2.0 - 3.0) * 5.0` is represented as an AST\n",
    "\n",
    "`Plus(Const(1.0), Mult(Minus(Const(2.0), Const(3.0)), Const(5.0))`\n",
    "\n",
    "The overall goal of this part is to compile this down into a list of bytecode instructions that serves to evaluate this through the emulator you have built in part 1.\n",
    "\n",
    "For example, the expression above produces the instructions\n",
    "\n",
    "~~~\n",
    "\n",
    "PushI(1.0)\n",
    "PushI(2.0)\n",
    "PushI(3.0)\n",
    "MinusI\n",
    "PushI(5.0)\n",
    "MultI \n",
    "AddI\n",
    "\n",
    "~~~\n",
    "\n",
    "You should check that evaluating this sequence gives the result `-4.0`. Please pay particular attention to the order of the operands for `MinusI` according to the specification provided in Part 1.\n",
    "\n",
    "\n",
    "The idea is to implement a function __compileExpr(e)__ that given an expression __e__ yields a _list of instructions_ according to the following operational semantics definition.\n",
    "\n",
    "$$\\newcommand\\semRule[3]{\\begin{array}{c} #1 \\\\ \\hline #2 \\\\ \\end{array}\\;\\; (\\textit{#3})} $$\n",
    "$$\\newcommand\\comp{\\textbf{compileExpr}}$$\n",
    "\n",
    "### Constant Rule\n",
    "\n",
    "The rule for constants is simple. An expression `Const(f)` compiles to the instruction `PushI(f)`.\n",
    "\n",
    "$$\\semRule{}{\\comp(\\texttt{Const(f)}) = [ \\text{PushI}(f) ] }{const-rule}$$\n",
    "\n",
    "Note again that $\\comp$ maps expressions to _list_ of instructions.\n",
    "\n",
    "### Add Rule\n",
    "\n",
    "$$\\semRule{\\comp(\\texttt{e1}) = L_1,\\ \\comp(\\texttt{e2}) = L_2}{\\comp(\\texttt{Plus(e1, e2}) = ListContatenation(L_1, L_2 , [ AddI ]) }{add-rule}$$\n",
    "\n",
    "The instructions concatenate the lists $L_1, L_2$ along with the list consisting of a single instruction `[ AddI ]`. Note that the `++` operator in scala implements the list concatenation.\n",
    "\n",
    "### Subtract Rule\n",
    "\n",
    "$$\\semRule{\\comp(\\texttt{e1}) = L_1,\\ \\comp(\\texttt{e2}) = L_2}{\\comp(\\texttt{Minus(e1, e2}) = ListContatenation(L_1, L_2 , [ SubI ]) }{minus-rule}$$\n",
    "\n",
    "The instructions concatenate the lists $L_1, L_2$ along with the list consisting of a single instruction `[ SubI ]`. \n",
    "\n",
    "\n",
    "### Rules for Other expressions\n",
    "\n",
    "We hope that you will be able to fill in rules for other cases `Mult`, `Div`, `Exp`, `Log`, `Sine` and `Cosine`.\n",
    "\n"
   ]
  },
  {
   "cell_type": "markdown",
   "metadata": {},
   "source": [
    "### Instructions for Part 2\n",
    "\n",
    "The definition of Expression AST is given in the file `Expr.scala`\n",
    "\n",
    "Your goal is to implement the compilation routine `compileToStackMachineCode(e: Expr): List[StackMachineInstruction]` in the file `StackMachineCompilation.scala`. The function takes in an expression `e` and outputs a list of stack machine instructions."
   ]
  }
 ],
 "metadata": {
  "kernelspec": {
   "display_name": "Scala",
   "language": "scala",
   "name": "scala"
  },
  "language_info": {
   "codemirror_mode": "text/x-scala",
   "file_extension": ".scala",
   "mimetype": "text/x-scala",
   "name": "scala211",
   "nbconvert_exporter": "script",
   "pygments_lexer": "scala",
   "version": "2.11.11"
  }
 },
 "nbformat": 4,
 "nbformat_minor": 2
}
